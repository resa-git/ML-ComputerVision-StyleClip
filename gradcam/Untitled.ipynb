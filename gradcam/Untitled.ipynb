{
 "cells": [
  {
   "cell_type": "code",
   "execution_count": 1,
   "id": "44958fc9-0570-4865-8a07-3351b0d4f0d2",
   "metadata": {},
   "outputs": [],
   "source": [
    "import numpy as np"
   ]
  },
  {
   "cell_type": "code",
   "execution_count": 5,
   "id": "e93be167-b5fa-4277-9e7a-e3259726cdc1",
   "metadata": {},
   "outputs": [],
   "source": [
    "class Mycar():\n",
    "    def __init__(self, name, color = 'black'):\n",
    "        self.name = name\n",
    "        self.color = color\n",
    "        \n",
    "    def change_name(self, name):\n",
    "        self.name = name\n",
    "    def change_color(color):\n",
    "        self.color = color\n",
    "    def pname(self):\n",
    "        print('car heter ' + self.name)\n",
    "    def pcolor(self):\n",
    "        print('car farg ' + self.color)\n",
    "        "
   ]
  },
  {
   "cell_type": "code",
   "execution_count": 6,
   "id": "da2e7a5e-6dc1-483c-8ef0-1d635371606a",
   "metadata": {},
   "outputs": [],
   "source": [
    "car = Mycar('banz', 'yellow')"
   ]
  },
  {
   "cell_type": "code",
   "execution_count": 7,
   "id": "ce1c92fd-76e5-4390-a893-916123ad2488",
   "metadata": {},
   "outputs": [
    {
     "name": "stdout",
     "output_type": "stream",
     "text": [
      "car heter banz\n"
     ]
    }
   ],
   "source": [
    "car.pname()"
   ]
  },
  {
   "cell_type": "code",
   "execution_count": 8,
   "id": "1b1c9edd-b7a9-41ef-85d6-8b6b8de8ab92",
   "metadata": {},
   "outputs": [
    {
     "name": "stdout",
     "output_type": "stream",
     "text": [
      "car farg yellow\n"
     ]
    }
   ],
   "source": [
    "car.pcolor()"
   ]
  },
  {
   "cell_type": "code",
   "execution_count": 10,
   "id": "f2430e1d-36f3-430c-9324-d693994b3f78",
   "metadata": {},
   "outputs": [
    {
     "data": {
      "text/plain": [
       "('banz', 'yellow')"
      ]
     },
     "execution_count": 10,
     "metadata": {},
     "output_type": "execute_result"
    }
   ],
   "source": [
    "car.name, car.color"
   ]
  }
 ],
 "metadata": {
  "kernelspec": {
   "display_name": "Python 3 (ipykernel)",
   "language": "python",
   "name": "python3"
  },
  "language_info": {
   "codemirror_mode": {
    "name": "ipython",
    "version": 3
   },
   "file_extension": ".py",
   "mimetype": "text/x-python",
   "name": "python",
   "nbconvert_exporter": "python",
   "pygments_lexer": "ipython3",
   "version": "3.9.12"
  }
 },
 "nbformat": 4,
 "nbformat_minor": 5
}
